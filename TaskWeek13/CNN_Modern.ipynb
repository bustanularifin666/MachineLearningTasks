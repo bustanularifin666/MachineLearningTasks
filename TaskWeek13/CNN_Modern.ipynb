{
  "nbformat": 4,
  "nbformat_minor": 0,
  "metadata": {
    "colab": {
      "provenance": [],
      "gpuType": "T4",
      "authorship_tag": "ABX9TyM2EQx5BjDpXwhxPotrdAMH",
      "include_colab_link": true
    },
    "kernelspec": {
      "name": "python3",
      "display_name": "Python 3"
    },
    "language_info": {
      "name": "python"
    },
    "accelerator": "GPU"
  },
  "cells": [
    {
      "cell_type": "markdown",
      "metadata": {
        "id": "view-in-github",
        "colab_type": "text"
      },
      "source": [
        "<a href=\"https://colab.research.google.com/github/bustanularifin666/MachineLearningTasks/blob/main/TaskWeek13/CNN_Modern.ipynb\" target=\"_parent\"><img src=\"https://colab.research.google.com/assets/colab-badge.svg\" alt=\"Open In Colab\"/></a>"
      ]
    },
    {
      "cell_type": "markdown",
      "source": [
        "Muhammad Bustanul Arifin Nur Fathurrahman\n",
        "1103228224"
      ],
      "metadata": {
        "id": "UhdOgz-5iec0"
      }
    },
    {
      "cell_type": "markdown",
      "source": [
        "# 1. AlexNet"
      ],
      "metadata": {
        "id": "kppAKpJ8L7Xb"
      }
    },
    {
      "cell_type": "code",
      "execution_count": 25,
      "metadata": {
        "colab": {
          "base_uri": "https://localhost:8080/"
        },
        "id": "x72_GaM_1gXD",
        "outputId": "e79f7cd1-a86c-4e05-e7cf-0f95fc17db9e"
      },
      "outputs": [
        {
          "output_type": "stream",
          "name": "stdout",
          "text": [
            "Epoch 1/10, Training Loss: 0.2555\n",
            "Epoch 2/10, Training Loss: 0.0903\n",
            "Epoch 3/10, Training Loss: 0.0793\n",
            "Epoch 4/10, Training Loss: 0.0649\n",
            "Epoch 5/10, Training Loss: 0.0693\n",
            "Epoch 6/10, Training Loss: 0.0554\n",
            "Epoch 7/10, Training Loss: 0.0511\n",
            "Epoch 8/10, Training Loss: 0.0515\n",
            "Epoch 9/10, Training Loss: 0.0488\n",
            "Epoch 10/10, Training Loss: 0.0466\n",
            "Test Loss: 0.0386, Accuracy: 0.9903\n"
          ]
        }
      ],
      "source": [
        "import torch\n",
        "import torch.nn as nn\n",
        "import torch.optim as optim\n",
        "from torchvision import datasets, transforms\n",
        "from torch.utils.data import DataLoader\n",
        "\n",
        "# MNIST dataset (images and labels)\n",
        "transform = transforms.Compose([\n",
        "    transforms.Resize((227, 227)),  # Resize to fit AlexNet input dimensions\n",
        "    transforms.ToTensor(),\n",
        "    transforms.Normalize((0.5,), (0.5,))\n",
        "])\n",
        "\n",
        "train_dataset = datasets.MNIST(root='./data', train=True, download=True, transform=transform)\n",
        "test_dataset = datasets.MNIST(root='./data', train=False, download=True, transform=transform)\n",
        "\n",
        "# DataLoader (input pipeline)\n",
        "train_loader = DataLoader(dataset=train_dataset, batch_size=64, shuffle=True)\n",
        "test_loader = DataLoader(dataset=test_dataset, batch_size=64, shuffle=False)\n",
        "\n",
        "# Device configuration\n",
        "device = torch.device('cuda' if torch.cuda.is_available() else 'cpu')\n",
        "\n",
        "# 2. Define the AlexNet architecture\n",
        "class AlexNet(nn.Module):\n",
        "    def __init__(self):\n",
        "        super(AlexNet, self).__init__()\n",
        "        self.features = nn.Sequential(\n",
        "            nn.Conv2d(1, 64, kernel_size=11, stride=4, padding=2),\n",
        "            nn.ReLU(inplace=True),\n",
        "            nn.MaxPool2d(kernel_size=3, stride=2),\n",
        "            nn.Conv2d(64, 192, kernel_size=5, padding=2),\n",
        "            nn.ReLU(inplace=True),\n",
        "            nn.MaxPool2d(kernel_size=3, stride=2),\n",
        "            nn.Conv2d(192, 384, kernel_size=3, padding=1),\n",
        "            nn.ReLU(inplace=True),\n",
        "            nn.Conv2d(384, 256, kernel_size=3, padding=1),\n",
        "            nn.ReLU(inplace=True),\n",
        "            nn.Conv2d(256, 256, kernel_size=3, padding=1),\n",
        "            nn.ReLU(inplace=True),\n",
        "            nn.MaxPool2d(kernel_size=3, stride=2),\n",
        "        )\n",
        "        self.avgpool = nn.AdaptiveAvgPool2d((6, 6))\n",
        "        self.classifier = nn.Sequential(\n",
        "            nn.Dropout(),\n",
        "            nn.Linear(256 * 6 * 6, 4096),\n",
        "            nn.ReLU(inplace=True),\n",
        "            nn.Dropout(),\n",
        "            nn.Linear(4096, 4096),\n",
        "            nn.ReLU(inplace=True),\n",
        "            nn.Linear(4096, 10)\n",
        "        )\n",
        "\n",
        "    def forward(self, x):\n",
        "        x = self.features(x)\n",
        "        x = self.avgpool(x)\n",
        "        x = torch.flatten(x, 1)\n",
        "        x = self.classifier(x)\n",
        "        return x\n",
        "\n",
        "# Rest of the code remains the same for training and evaluation.\n",
        "\n",
        "# Rest of the code remains the same for training and evaluation.\n",
        "\n",
        "# Rest of the code remains the same for training and evaluation.\n",
        "\n",
        "device = torch.device(\"cuda\" if torch.cuda.is_available() else \"cpu\")\n",
        "model = AlexNet().to(device)\n",
        "\n",
        "# 3. Set up the loss function and optimizer\n",
        "criterion = nn.CrossEntropyLoss()\n",
        "optimizer = optim.Adam(model.parameters(), lr=0.001)\n",
        "\n",
        "# 4. Training and Evaluation\n",
        "def train(model, train_loader, criterion, optimizer, epochs=10):\n",
        "    model.train()\n",
        "    for epoch in range(epochs):\n",
        "        running_loss = 0.0\n",
        "        for inputs, labels in train_loader:\n",
        "            inputs, labels = inputs.to(device), labels.to(device)\n",
        "\n",
        "            optimizer.zero_grad()\n",
        "\n",
        "            outputs = model(inputs)\n",
        "            loss = criterion(outputs, labels)\n",
        "            loss.backward()\n",
        "            optimizer.step()\n",
        "\n",
        "            running_loss += loss.item() * inputs.size(0)\n",
        "\n",
        "        epoch_loss = running_loss / len(train_loader.dataset)\n",
        "        print(f\"Epoch {epoch+1}/{epochs}, Training Loss: {epoch_loss:.4f}\")\n",
        "\n",
        "def evaluate(model, test_loader, criterion):\n",
        "    model.eval()\n",
        "    running_loss = 0.0\n",
        "    corrects = 0\n",
        "\n",
        "    with torch.no_grad():\n",
        "        for inputs, labels in test_loader:\n",
        "            inputs, labels = inputs.to(device), labels.to(device)\n",
        "\n",
        "            outputs = model(inputs)\n",
        "            loss = criterion(outputs, labels)\n",
        "\n",
        "            running_loss += loss.item() * inputs.size(0)\n",
        "\n",
        "            _, preds = torch.max(outputs, 1)\n",
        "            corrects += torch.sum(preds == labels.data)\n",
        "\n",
        "        test_loss = running_loss / len(test_loader.dataset)\n",
        "        accuracy = corrects.double() / len(test_loader.dataset)\n",
        "        print(f\"Test Loss: {test_loss:.4f}, Accuracy: {accuracy:.4f}\")\n",
        "\n",
        "# Train the model\n",
        "train(model, train_loader, criterion, optimizer, epochs=10)\n",
        "\n",
        "# Evaluate the model\n",
        "evaluate(model, test_loader, criterion)\n"
      ]
    },
    {
      "cell_type": "markdown",
      "source": [],
      "metadata": {
        "id": "ABOeX46V3aKO"
      }
    },
    {
      "cell_type": "markdown",
      "source": [
        "- import torch: Mengimpor library utama PyTorch.\n",
        "\n",
        "- import torch.nn as nn: Mengimpor modul yang berisi kelas-kelas untuk mendefinisikan dan membangun arsitektur neural network. nn merupakan singkatan dari \"neural network.\"\n",
        "\n",
        "- import torch.optim as optim: Mengimpor modul yang berisi implementasi berbagai algoritma optimasi untuk melatih neural network.\n",
        "\n",
        "- import torchvision: Library yang menyediakan dataset populer, arsitektur model, dan alat bantu lainnya untuk tugas computer vision.\n",
        "\n",
        "- import torchvision.transforms as transforms: Modul yang berisi fungsi-fungsi untuk melakukan transformasi pada data gambar, seperti normalisasi, cropping, dan flipping.\n",
        "\n",
        "- from torch.utils.data import DataLoader: Mengimpor kelas DataLoader dari modul torch.utils.data. DataLoader digunakan untuk memuat data dalam batch ke dalam model saat melatih atau menguji."
      ],
      "metadata": {
        "id": "s0RsiZkP4QWy"
      }
    },
    {
      "cell_type": "markdown",
      "source": [
        "# 2. LeNet 5"
      ],
      "metadata": {
        "id": "sMzI-i1tMu-i"
      }
    },
    {
      "cell_type": "code",
      "source": [
        "# Load and preprocess the MNIST dataset\n",
        "transform = transforms.Compose([transforms.Resize((32, 32)), # For LeNet\n",
        "                                transforms.ToTensor(),\n",
        "                                transforms.Normalize((0.5,), (0.5,))])\n",
        "\n",
        "train_dataset = datasets.MNIST(root='./data', train=True, download=True, transform=transform)\n",
        "test_dataset = datasets.MNIST(root='./data', train=False, download=True, transform=transform)\n",
        "\n",
        "train_loader = DataLoader(train_dataset, batch_size=64, shuffle=True)\n",
        "test_loader = DataLoader(test_dataset, batch_size=64, shuffle=False)\n",
        "\n",
        "# Device configuration\n",
        "device = torch.device('cuda' if torch.cuda.is_available() else 'cpu')\n"
      ],
      "metadata": {
        "id": "JW_xyB6qMZ_U"
      },
      "execution_count": 7,
      "outputs": []
    },
    {
      "cell_type": "code",
      "source": [
        "class LeNet5(nn.Module):\n",
        "    def __init__(self):\n",
        "        super(LeNet5, self).__init__()\n",
        "        self.conv1 = nn.Conv2d(1, 6, 5)\n",
        "        self.conv2 = nn.Conv2d(6, 16, 5)\n",
        "        self.fc1 = nn.Linear(16*5*5, 120)\n",
        "        self.fc2 = nn.Linear(120, 84)\n",
        "        self.fc3 = nn.Linear(84, 10)\n",
        "\n",
        "    def forward(self, x):\n",
        "        x = torch.relu(self.conv1(x))\n",
        "        x = torch.max_pool2d(x, 2)\n",
        "        x = torch.relu(self.conv2(x))\n",
        "        x = torch.max_pool2d(x, 2)\n",
        "        x = x.view(-1, 16*5*5)\n",
        "        x = torch.relu(self.fc1(x))\n",
        "        x = torch.relu(self.fc2(x))\n",
        "        x = self.fc3(x)\n",
        "        return x\n"
      ],
      "metadata": {
        "id": "nG9_KeBYMbGk"
      },
      "execution_count": 8,
      "outputs": []
    },
    {
      "cell_type": "code",
      "source": [
        "def train(model, device, train_loader, optimizer, criterion, epoch):\n",
        "    model.train()\n",
        "    for batch_idx, (data, target) in enumerate(train_loader):\n",
        "        data, target = data.to(device), target.to(device)\n",
        "        optimizer.zero_grad()\n",
        "        output = model(data)\n",
        "        loss = criterion(output, target)\n",
        "        loss.backward()\n",
        "        optimizer.step()\n",
        "\n",
        "def test(model, device, test_loader, criterion):\n",
        "    model.eval()\n",
        "    test_loss = 0\n",
        "    correct = 0\n",
        "    with torch.no_grad():\n",
        "        for data, target in test_loader:\n",
        "            data, target = data.to(device), target.to(device)\n",
        "            output = model(data)\n",
        "            test_loss += criterion(output, target).item()\n",
        "            pred = output.argmax(dim=1, keepdim=True)\n",
        "            correct += pred.eq(target.view_as(pred)).sum().item()\n",
        "    test_loss /= len(test_loader.dataset)\n",
        "    return test_loss, correct\n"
      ],
      "metadata": {
        "id": "cIIgLFNMMimC"
      },
      "execution_count": 9,
      "outputs": []
    },
    {
      "cell_type": "code",
      "source": [
        "# Example for LeNet-5\n",
        "model = LeNet5().to(device)\n",
        "optimizer = optim.Adam(model.parameters())\n",
        "criterion = nn.CrossEntropyLoss()\n",
        "\n",
        "for epoch in range(1, 11):\n",
        "    train(model, device, train_loader, optimizer, criterion, epoch)\n",
        "    test_loss, correct = test(model, device, test_loader, criterion)\n",
        "    print(f\"LeNet-5 - Epoch {epoch}: Test Loss: {test_loss:.4f}, Accuracy: {correct}/{len(test_loader.dataset)}\")\n"
      ],
      "metadata": {
        "colab": {
          "base_uri": "https://localhost:8080/"
        },
        "id": "qE6eQgP_MkOd",
        "outputId": "cf12bf87-484f-4245-fff6-5ea31118ac9f"
      },
      "execution_count": 10,
      "outputs": [
        {
          "output_type": "stream",
          "name": "stdout",
          "text": [
            "LeNet-5 - Epoch 1: Test Loss: 0.0012, Accuracy: 9755/10000\n",
            "LeNet-5 - Epoch 2: Test Loss: 0.0008, Accuracy: 9841/10000\n",
            "LeNet-5 - Epoch 3: Test Loss: 0.0006, Accuracy: 9874/10000\n",
            "LeNet-5 - Epoch 4: Test Loss: 0.0005, Accuracy: 9900/10000\n",
            "LeNet-5 - Epoch 5: Test Loss: 0.0006, Accuracy: 9893/10000\n",
            "LeNet-5 - Epoch 6: Test Loss: 0.0006, Accuracy: 9876/10000\n",
            "LeNet-5 - Epoch 7: Test Loss: 0.0005, Accuracy: 9904/10000\n",
            "LeNet-5 - Epoch 8: Test Loss: 0.0005, Accuracy: 9883/10000\n",
            "LeNet-5 - Epoch 9: Test Loss: 0.0006, Accuracy: 9877/10000\n",
            "LeNet-5 - Epoch 10: Test Loss: 0.0006, Accuracy: 9891/10000\n"
          ]
        }
      ]
    },
    {
      "cell_type": "markdown",
      "source": [
        "# 3. VGGNet"
      ],
      "metadata": {
        "id": "jcNKQNicMx27"
      }
    },
    {
      "cell_type": "code",
      "source": [
        "# MNIST dataset (images and labels)\n",
        "transform = transforms.Compose([\n",
        "    transforms.Resize((224, 224)),  # Resize to fit VGGNet input dimensions\n",
        "    transforms.ToTensor(),\n",
        "    transforms.Normalize((0.5,), (0.5,))\n",
        "])\n",
        "\n",
        "train_dataset = datasets.MNIST(root='./data', train=True, download=True, transform=transform)\n",
        "test_dataset = datasets.MNIST(root='./data', train=False, download=True, transform=transform)\n",
        "\n",
        "# DataLoader (input pipeline)\n",
        "train_loader = DataLoader(dataset=train_dataset, batch_size=64, shuffle=True)\n",
        "test_loader = DataLoader(dataset=test_dataset, batch_size=64, shuffle=False)\n",
        "\n",
        "# Device configuration\n",
        "device = torch.device('cuda' if torch.cuda.is_available() else 'cpu')\n"
      ],
      "metadata": {
        "id": "GyYX_zpl4JRK"
      },
      "execution_count": 11,
      "outputs": []
    },
    {
      "cell_type": "code",
      "source": [
        "class VGGNet(nn.Module):\n",
        "    def __init__(self):\n",
        "        super(VGGNet, self).__init__()\n",
        "        self.features = nn.Sequential(\n",
        "            nn.Conv2d(1, 64, kernel_size=3, padding=1),\n",
        "            nn.ReLU(inplace=True),\n",
        "            nn.Conv2d(64, 64, kernel_size=3, padding=1),\n",
        "            nn.ReLU(inplace=True),\n",
        "            nn.MaxPool2d(kernel_size=2, stride=2),\n",
        "            nn.Conv2d(64, 128, kernel_size=3, padding=1),\n",
        "            nn.ReLU(inplace=True),\n",
        "            nn.Conv2d(128, 128, kernel_size=3, padding=1),\n",
        "            nn.ReLU(inplace=True),\n",
        "            nn.MaxPool2d(kernel_size=2, stride=2),\n",
        "            # Additional convolutional layers can be added here\n",
        "        )\n",
        "        self.avgpool = nn.AdaptiveAvgPool2d((7, 7))\n",
        "        self.classifier = nn.Sequential(\n",
        "            nn.Linear(128 * 7 * 7, 4096),\n",
        "            nn.ReLU(True),\n",
        "            nn.Dropout(),\n",
        "            nn.Linear(4096, 4096),\n",
        "            nn.ReLU(True),\n",
        "            nn.Dropout(),\n",
        "            nn.Linear(4096, 10),\n",
        "        )\n",
        "\n",
        "    def forward(self, x):\n",
        "        x = self.features(x)\n",
        "        x = self.avgpool(x)\n",
        "        x = x.view(x.size(0), -1)\n",
        "        x = self.classifier(x)\n",
        "        return x\n"
      ],
      "metadata": {
        "id": "o8zTA0qb4OH9"
      },
      "execution_count": 12,
      "outputs": []
    },
    {
      "cell_type": "code",
      "source": [
        "def train(model, device, train_loader, optimizer, criterion, epoch):\n",
        "    model.train()\n",
        "    for batch_idx, (data, target) in enumerate(train_loader):\n",
        "        data, target = data.to(device), target.to(device)\n",
        "        optimizer.zero_grad()\n",
        "        output = model(data)\n",
        "        loss = criterion(output, target)\n",
        "        loss.backward()\n",
        "        optimizer.step()\n"
      ],
      "metadata": {
        "id": "GGSmk9OCMpXf"
      },
      "execution_count": 13,
      "outputs": []
    },
    {
      "cell_type": "code",
      "source": [
        "def test(model, device, test_loader, criterion):\n",
        "    model.eval()\n",
        "    test_loss = 0\n",
        "    correct = 0\n",
        "    with torch.no_grad():\n",
        "        for data, target in test_loader:\n",
        "            data, target = data.to(device), target.to(device)\n",
        "            output = model(data)\n",
        "            test_loss += criterion(output, target).item()\n",
        "            pred = output.argmax(dim=1, keepdim=True)\n",
        "            correct += pred.eq(target.view_as(pred)).sum().item()\n",
        "    test_loss /= len(test_loader.dataset)\n",
        "    return test_loss, correct\n"
      ],
      "metadata": {
        "id": "CJ0p8G6YMqKc"
      },
      "execution_count": 14,
      "outputs": []
    },
    {
      "cell_type": "code",
      "source": [
        "model = VGGNet().to(device)\n",
        "optimizer = optim.Adam(model.parameters(), lr=0.001)\n",
        "criterion = nn.CrossEntropyLoss()\n",
        "\n",
        "for epoch in range(1, 11):  # 10 epochs\n",
        "    train(model, device, train_loader, optimizer, criterion, epoch)\n",
        "    test_loss, correct = test(model, device, test_loader, criterion)\n",
        "    print(f\"Epoch {epoch}: Test Loss: {test_loss:.4f}, Accuracy: {correct}/{len(test_loader.dataset)}\")\n"
      ],
      "metadata": {
        "colab": {
          "base_uri": "https://localhost:8080/"
        },
        "id": "GVkbSLBsMr7A",
        "outputId": "8725b5f6-0d92-4ae6-b8bd-8069ffd8c10d"
      },
      "execution_count": 15,
      "outputs": [
        {
          "output_type": "stream",
          "name": "stdout",
          "text": [
            "Epoch 1: Test Loss: 0.0009, Accuracy: 9811/10000\n",
            "Epoch 2: Test Loss: 0.0007, Accuracy: 9860/10000\n",
            "Epoch 3: Test Loss: 0.0006, Accuracy: 9876/10000\n",
            "Epoch 4: Test Loss: 0.0006, Accuracy: 9882/10000\n",
            "Epoch 5: Test Loss: 0.0006, Accuracy: 9895/10000\n",
            "Epoch 6: Test Loss: 0.0006, Accuracy: 9885/10000\n",
            "Epoch 7: Test Loss: 0.0005, Accuracy: 9902/10000\n",
            "Epoch 8: Test Loss: 0.0006, Accuracy: 9889/10000\n",
            "Epoch 9: Test Loss: 0.0007, Accuracy: 9887/10000\n",
            "Epoch 10: Test Loss: 0.0008, Accuracy: 9875/10000\n"
          ]
        }
      ]
    }
  ]
}