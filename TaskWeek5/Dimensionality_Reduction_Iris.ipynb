{
  "nbformat": 4,
  "nbformat_minor": 0,
  "metadata": {
    "colab": {
      "provenance": [],
      "gpuType": "T4",
      "authorship_tag": "ABX9TyO1zGe0frkW8W2Zmq7SSRgM",
      "include_colab_link": true
    },
    "kernelspec": {
      "name": "python3",
      "display_name": "Python 3"
    },
    "language_info": {
      "name": "python"
    },
    "accelerator": "GPU"
  },
  "cells": [
    {
      "cell_type": "markdown",
      "metadata": {
        "id": "view-in-github",
        "colab_type": "text"
      },
      "source": [
        "<a href=\"https://colab.research.google.com/github/bustanularifin666/MachineLearningTasks/blob/main/TaskWeek5/Dimensionality_Reduction_Iris.ipynb\" target=\"_parent\"><img src=\"https://colab.research.google.com/assets/colab-badge.svg\" alt=\"Open In Colab\"/></a>"
      ]
    },
    {
      "cell_type": "code",
      "execution_count": 1,
      "metadata": {
        "id": "GaXc3aGuLvnO"
      },
      "outputs": [],
      "source": [
        "#Muhammad Bustanul Arifin Nur Fathurrahman_1103228224\n",
        "from sklearn import datasets\n",
        "from sklearn.model_selection import train_test_split\n",
        "\n",
        "iris = datasets.load_iris()"
      ]
    },
    {
      "cell_type": "code",
      "source": [
        "atribut = iris.data\n",
        "label = iris.target"
      ],
      "metadata": {
        "id": "p-SeF98iN42N"
      },
      "execution_count": 2,
      "outputs": []
    },
    {
      "cell_type": "code",
      "source": [
        "#melihat jumlah baris\n",
        "jumlah_baris = len(atribut)\n",
        "print(\"Jumlah baris = \", jumlah_baris)"
      ],
      "metadata": {
        "colab": {
          "base_uri": "https://localhost:8080/"
        },
        "id": "gFkG71SrOnY6",
        "outputId": "0c04e6e2-ee3c-419b-e2cb-6714b1814ce3"
      },
      "execution_count": 3,
      "outputs": [
        {
          "output_type": "stream",
          "name": "stdout",
          "text": [
            "Jumlah baris =  150\n"
          ]
        }
      ]
    },
    {
      "cell_type": "code",
      "source": [
        "#Bagi dataset\n",
        "\n",
        "X_train, X_test, y_train, y_test, = train_test_split(atribut, label, test_size=0.2)"
      ],
      "metadata": {
        "id": "v10hw15hOWfa"
      },
      "execution_count": 4,
      "outputs": []
    },
    {
      "cell_type": "code",
      "source": [
        "from sklearn import tree\n",
        "\n",
        "decision_tree = tree.DecisionTreeClassifier()\n",
        "model_tanpa_dimensionality_reduction = decision_tree.fit(X_train, y_train)\n",
        "model_tanpa_dimensionality_reduction.score(X_test, y_test)"
      ],
      "metadata": {
        "colab": {
          "base_uri": "https://localhost:8080/"
        },
        "id": "84fGhHOFN52-",
        "outputId": "6e3d41fb-8d7a-4a41-e772-c8bdd711d0b9"
      },
      "execution_count": 5,
      "outputs": [
        {
          "output_type": "execute_result",
          "data": {
            "text/plain": [
              "0.9333333333333333"
            ]
          },
          "metadata": {},
          "execution_count": 5
        }
      ]
    },
    {
      "cell_type": "code",
      "source": [
        "from sklearn.decomposition import PCA\n",
        "\n",
        "pca = PCA(n_components=4)\n",
        "\n",
        "pca_attributes = pca.fit_transform(X_train)\n",
        "\n",
        "pca.explained_variance_ratio_"
      ],
      "metadata": {
        "colab": {
          "base_uri": "https://localhost:8080/"
        },
        "id": "OcCb2-oCO-q7",
        "outputId": "887a49fb-26e9-47d3-ba8a-3dd7f3ebbb5e"
      },
      "execution_count": 6,
      "outputs": [
        {
          "output_type": "execute_result",
          "data": {
            "text/plain": [
              "array([0.92174308, 0.05632256, 0.01625952, 0.00567484])"
            ]
          },
          "metadata": {},
          "execution_count": 6
        }
      ]
    },
    {
      "cell_type": "markdown",
      "source": [
        "Ambil atribut yang memiliki variance 0.921 dan 0.005"
      ],
      "metadata": {
        "id": "LtgpwLpX8cwE"
      }
    },
    {
      "cell_type": "code",
      "source": [
        "pca = PCA(n_components=2)\n",
        "X_train_pca = pca.fit_transform(X_train)\n",
        "X_test_pca = pca.fit_transform(X_test)"
      ],
      "metadata": {
        "id": "qvOB87ViQu9Y"
      },
      "execution_count": 7,
      "outputs": []
    },
    {
      "cell_type": "code",
      "source": [
        "model_dengan_PCA_2_components = decision_tree.fit(X_train_pca, y_train)\n",
        "model_dengan_PCA_2_components.score(X_test_pca, y_test)"
      ],
      "metadata": {
        "colab": {
          "base_uri": "https://localhost:8080/"
        },
        "id": "G9GbpxFAQ4IF",
        "outputId": "bb8a9876-6d5f-498b-81a8-52fb656afcc0"
      },
      "execution_count": 8,
      "outputs": [
        {
          "output_type": "execute_result",
          "data": {
            "text/plain": [
              "0.9666666666666667"
            ]
          },
          "metadata": {},
          "execution_count": 8
        }
      ]
    }
  ]
}