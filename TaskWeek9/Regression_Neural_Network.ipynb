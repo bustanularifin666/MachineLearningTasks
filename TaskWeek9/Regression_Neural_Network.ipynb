{
  "nbformat": 4,
  "nbformat_minor": 0,
  "metadata": {
    "colab": {
      "provenance": [],
      "authorship_tag": "ABX9TyOOqRDQEvuhRhUKVa7j6ytD",
      "include_colab_link": true
    },
    "kernelspec": {
      "name": "python3",
      "display_name": "Python 3"
    },
    "language_info": {
      "name": "python"
    }
  },
  "cells": [
    {
      "cell_type": "markdown",
      "metadata": {
        "id": "view-in-github",
        "colab_type": "text"
      },
      "source": [
        "<a href=\"https://colab.research.google.com/github/bustanularifin666/MachineLearningTasks/blob/main/TaskWeek9/Regression_Neural_Network.ipynb\" target=\"_parent\"><img src=\"https://colab.research.google.com/assets/colab-badge.svg\" alt=\"Open In Colab\"/></a>"
      ]
    },
    {
      "cell_type": "markdown",
      "source": [
        "Muhammad Bustanul Arifin Nur Fathurrahman\n",
        "1103228224"
      ],
      "metadata": {
        "id": "8YJa1ZxjTsxI"
      }
    },
    {
      "cell_type": "markdown",
      "source": [
        "Neural Network"
      ],
      "metadata": {
        "id": "BagQL2ABTvSJ"
      }
    },
    {
      "cell_type": "code",
      "execution_count": 3,
      "metadata": {
        "id": "FcAJwVLBPCQV"
      },
      "outputs": [],
      "source": [
        "import numpy as np\n",
        "\n",
        "x = np.array([1.0, 2.0, 3.0, 4.0 ,5.0 ,6.0], dtype = float)\n",
        "y = np.array([4.0, 6.0, 8.0, 10.0, 12.0, 14.0], dtype = float)"
      ]
    },
    {
      "cell_type": "code",
      "source": [
        "import tensorflow as tf\n",
        "from tensorflow import keras\n",
        "\n",
        "model_1_layer = tf.keras.Sequential([keras.layers.Dense(units=1, input_shape=[1])])"
      ],
      "metadata": {
        "id": "0cLtOmHyQNen"
      },
      "execution_count": 4,
      "outputs": []
    },
    {
      "cell_type": "code",
      "source": [
        "model_1_layer.compile(optimizer='sgd', loss='mean_squared_error')"
      ],
      "metadata": {
        "id": "ri-7yCxpQeOB"
      },
      "execution_count": 17,
      "outputs": []
    },
    {
      "cell_type": "code",
      "source": [
        "model_1_layer.fit(x, y, epochs=50)"
      ],
      "metadata": {
        "id": "Z0vALSRVQegp"
      },
      "execution_count": null,
      "outputs": []
    },
    {
      "cell_type": "code",
      "source": [
        "print(model_1_layer.predict([10.0]))"
      ],
      "metadata": {
        "id": "gqPB08wfQhUt"
      },
      "execution_count": null,
      "outputs": []
    },
    {
      "cell_type": "code",
      "source": [
        "model_1_layer.fit(x, y, epochs=100)"
      ],
      "metadata": {
        "id": "DrPZWgFpRRD6"
      },
      "execution_count": null,
      "outputs": []
    },
    {
      "cell_type": "code",
      "source": [
        "print(model_1_layer.predict([10.0]))"
      ],
      "metadata": {
        "id": "exq86IrfRTrd"
      },
      "execution_count": null,
      "outputs": []
    },
    {
      "cell_type": "code",
      "source": [
        "model_1_layer.fit(x, y, epochs=300)"
      ],
      "metadata": {
        "id": "S1DBQWI2RczE"
      },
      "execution_count": null,
      "outputs": []
    },
    {
      "cell_type": "code",
      "source": [
        "print(model_1_layer.predict([10.0]))"
      ],
      "metadata": {
        "id": "9k6wi0pyRgFM"
      },
      "execution_count": null,
      "outputs": []
    },
    {
      "cell_type": "markdown",
      "source": [
        "Epoch adalah banyaknya train yang dilakukan pada dataset yang diberikan pada neural network"
      ],
      "metadata": {
        "id": "jbhXkDotR5yH"
      }
    },
    {
      "cell_type": "code",
      "source": [
        "model_3_layers = tf.keras.Sequential([\n",
        "    keras.layers.Dense(units=1, input_shape=[1]),\n",
        "    keras.layers.Dense(units=8),\n",
        "    keras.layers.Dense(units=1)\n",
        "])"
      ],
      "metadata": {
        "id": "Go2Q_46RQjsW"
      },
      "execution_count": 23,
      "outputs": []
    },
    {
      "cell_type": "code",
      "source": [
        "model_3_layers.compile(optimizer='sgd', loss='mean_squared_error')"
      ],
      "metadata": {
        "id": "qOeOSfLmQmrg"
      },
      "execution_count": 24,
      "outputs": []
    },
    {
      "cell_type": "code",
      "source": [
        "model_3_layers.fit(x, y, epochs=300)"
      ],
      "metadata": {
        "id": "8NDLgSJlQm_s"
      },
      "execution_count": null,
      "outputs": []
    },
    {
      "cell_type": "code",
      "source": [
        "print(model_3_layers.predict([10.0]))"
      ],
      "metadata": {
        "id": "25-r7HxJQn6v"
      },
      "execution_count": null,
      "outputs": []
    }
  ]
}